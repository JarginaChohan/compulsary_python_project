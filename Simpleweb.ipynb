{
  "nbformat": 4,
  "nbformat_minor": 0,
  "metadata": {
    "colab": {
      "provenance": [],
      "authorship_tag": "ABX9TyOw9HqlaPN+n4+Hgr9LOWe7",
      "include_colab_link": true
    },
    "kernelspec": {
      "name": "python3",
      "display_name": "Python 3"
    },
    "language_info": {
      "name": "python"
    }
  },
  "cells": [
    {
      "cell_type": "markdown",
      "metadata": {
        "id": "view-in-github",
        "colab_type": "text"
      },
      "source": [
        "<a href=\"https://colab.research.google.com/github/JarginaChohan/compulsary_python_project/blob/main/Simpleweb.ipynb\" target=\"_parent\"><img src=\"https://colab.research.google.com/assets/colab-badge.svg\" alt=\"Open In Colab\"/></a>"
      ]
    },
    {
      "cell_type": "markdown",
      "source": [
        "https://simpleweb-jargina.streamlit.app/"
      ],
      "metadata": {
        "id": "XI5oOVotpFFc"
      }
    },
    {
      "cell_type": "code",
      "execution_count": null,
      "metadata": {
        "id": "8MPOTi8bo9pf"
      },
      "outputs": [],
      "source": [
        "import streamlit as st\n",
        "\n",
        "st.set_page_config(page_title=\"simple streamlit website\")\n",
        "\n",
        "page = st.sidebar.radio(\"Go to\" , [\"Home\", \"About\", \"Contact\"])\n",
        "\n",
        "if page == \"Home\":\n",
        "    st.title(\"Home\")\n",
        "    st.write(\"Welcome to this simple streamlit website.\")\n",
        "\n",
        "    name = st.text_input(\"Enter your name:\")\n",
        "    if st.button(\"Submit\"):\n",
        "        st.write(f\"Hello, {name}!!!\")\n",
        "\n",
        "elif page == \"About\":\n",
        "    st.title(\"About\")\n",
        "    st.write(\"This website is built using **only streamlit**.\")\n",
        "\n",
        "elif page == \"Contact\":\n",
        "    st.title(\"Contact\")\n",
        "\n",
        "    email = st.text_input(\"Enter your email:\")\n",
        "    message = st.text_area(\"Enter your message:\")\n",
        "\n",
        "    if st.button(\"Send\"):\n",
        "        st.write(\"Message sent!\")"
      ]
    }
  ]
}