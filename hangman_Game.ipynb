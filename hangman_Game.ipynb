{
  "nbformat": 4,
  "nbformat_minor": 0,
  "metadata": {
    "colab": {
      "provenance": [],
      "authorship_tag": "ABX9TyM5myNkusymLj071s0wK9MB",
      "include_colab_link": true
    },
    "kernelspec": {
      "name": "python3",
      "display_name": "Python 3"
    },
    "language_info": {
      "name": "python"
    }
  },
  "cells": [
    {
      "cell_type": "markdown",
      "metadata": {
        "id": "view-in-github",
        "colab_type": "text"
      },
      "source": [
        "<a href=\"https://colab.research.google.com/github/JarginaChohan/compulsary_python_project/blob/main/hangman_Game.ipynb\" target=\"_parent\"><img src=\"https://colab.research.google.com/assets/colab-badge.svg\" alt=\"Open In Colab\"/></a>"
      ]
    },
    {
      "cell_type": "code",
      "execution_count": 1,
      "metadata": {
        "colab": {
          "base_uri": "https://localhost:8080/"
        },
        "id": "5A-InfhOXAm-",
        "outputId": "ffe3eb1c-b78e-439f-e007-a51d9d4b8147"
      },
      "outputs": [
        {
          "output_type": "stream",
          "name": "stdout",
          "text": [
            "Welcome to Hangman!\n",
            "\n",
            "Word: _ _ _ _ _ _ _ _ _ _ _\n",
            "Incorrect guesses: None\n",
            "Remaining attempts: 6\n",
            "Guess a letter: d\n",
            "Wrong guess!\n",
            "\n",
            "Word: _ _ _ _ _ _ _ _ _ _ _\n",
            "Incorrect guesses: d\n",
            "Remaining attempts: 5\n",
            "Guess a letter: l\n",
            "Wrong guess!\n",
            "\n",
            "Word: _ _ _ _ _ _ _ _ _ _ _\n",
            "Incorrect guesses: d, l\n",
            "Remaining attempts: 4\n",
            "Guess a letter: v\n",
            "Wrong guess!\n",
            "\n",
            "Word: _ _ _ _ _ _ _ _ _ _ _\n",
            "Incorrect guesses: d, v, l\n",
            "Remaining attempts: 3\n",
            "Guess a letter: m\n",
            "Good Job! You guessed a letter correctly.\n",
            "\n",
            "Word: _ _ _ _ _ _ m m _ _ _\n",
            "Incorrect guesses: d, v, l\n",
            "Remaining attempts: 3\n",
            "Guess a letter: n\n",
            "Good Job! You guessed a letter correctly.\n",
            "\n",
            "Word: _ _ _ _ _ _ m m _ n _\n",
            "Incorrect guesses: d, v, l\n",
            "Remaining attempts: 3\n",
            "Guess a letter: p\n",
            "Good Job! You guessed a letter correctly.\n",
            "\n",
            "Word: p _ _ _ _ _ m m _ n _\n",
            "Incorrect guesses: d, v, l\n",
            "Remaining attempts: 3\n",
            "Guess a letter: g\n",
            "Good Job! You guessed a letter correctly.\n",
            "\n",
            "Word: p _ _ g _ _ m m _ n g\n",
            "Incorrect guesses: d, v, l\n",
            "Remaining attempts: 3\n",
            "Guess a letter: r\n",
            "Good Job! You guessed a letter correctly.\n",
            "\n",
            "Word: p r _ g r _ m m _ n g\n",
            "Incorrect guesses: d, v, l\n",
            "Remaining attempts: 3\n",
            "Guess a letter: i\n",
            "Good Job! You guessed a letter correctly.\n",
            "\n",
            "Word: p r _ g r _ m m i n g\n",
            "Incorrect guesses: d, v, l\n",
            "Remaining attempts: 3\n",
            "Guess a letter: a\n",
            "Good Job! You guessed a letter correctly.\n",
            "\n",
            "Word: p r _ g r a m m i n g\n",
            "Incorrect guesses: d, v, l\n",
            "Remaining attempts: 3\n",
            "Guess a letter: o\n",
            "Good Job! You guessed a letter correctly.\n",
            "\n",
            "🎉 Congratulations! You guessed the word: programming\n"
          ]
        }
      ],
      "source": [
        "import random\n",
        "\n",
        "words = [\"python\", \"developer\", \"programming\", \"computer\", \"software\"]\n",
        "\n",
        "def get_random_word():\n",
        "    return random.choice(words)\n",
        "\n",
        "def display_word(word, guessed_letters):\n",
        "    return \" \".join(letter if letter in guessed_letters else \"_\" for letter in word)\n",
        "\n",
        "def play_hangman():\n",
        "    word = get_random_word()\n",
        "    guessed_letters = set()\n",
        "    incorrect_guesses = set()\n",
        "    attempts = 6\n",
        "\n",
        "    print(\"Welcome to Hangman!\")\n",
        "\n",
        "    while attempts > 0:\n",
        "        print(\"\\nWord: \" + display_word(word, guessed_letters))\n",
        "        print(f\"Incorrect guesses: {', '.join(incorrect_guesses) if incorrect_guesses else 'None'}\")\n",
        "        print(f\"Remaining attempts: {attempts}\")\n",
        "\n",
        "        guess = input(\"Guess a letter: \").lower()\n",
        "\n",
        "        if len(guess) != 1 or not guess.isalpha():\n",
        "            print(\"Invalid Input! Please enter a single letter.\")\n",
        "            continue\n",
        "\n",
        "        if guess in guessed_letters or guess in incorrect_guesses:\n",
        "            print(\"You already guessed that letter.\")\n",
        "            continue\n",
        "\n",
        "        if guess in word:\n",
        "            guessed_letters.add(guess)\n",
        "            print(\"Good Job! You guessed a letter correctly.\")\n",
        "        else:\n",
        "            incorrect_guesses.add(guess)\n",
        "            attempts -= 1\n",
        "            print(\"Wrong guess!\")\n",
        "\n",
        "        if set(word) <= guessed_letters:\n",
        "            print(f\"\\n🎉 Congratulations! You guessed the word: {word}\")\n",
        "            return\n",
        "\n",
        "    print(f\"\\nGame Over! The correct word was: {word}\")\n",
        "\n",
        "if __name__ == \"__main__\":\n",
        "    play_hangman()\n"
      ]
    }
  ]
}