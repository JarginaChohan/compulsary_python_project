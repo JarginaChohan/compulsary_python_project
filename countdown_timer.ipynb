{
  "nbformat": 4,
  "nbformat_minor": 0,
  "metadata": {
    "colab": {
      "provenance": [],
      "authorship_tag": "ABX9TyNw1q/qRmszzvalNlmzJQGe",
      "include_colab_link": true
    },
    "kernelspec": {
      "name": "python3",
      "display_name": "Python 3"
    },
    "language_info": {
      "name": "python"
    }
  },
  "cells": [
    {
      "cell_type": "markdown",
      "metadata": {
        "id": "view-in-github",
        "colab_type": "text"
      },
      "source": [
        "<a href=\"https://colab.research.google.com/github/JarginaChohan/compulsary_python_project/blob/main/countdown_timer.ipynb\" target=\"_parent\"><img src=\"https://colab.research.google.com/assets/colab-badge.svg\" alt=\"Open In Colab\"/></a>"
      ]
    },
    {
      "cell_type": "markdown",
      "source": [],
      "metadata": {
        "id": "PVlc8pULr_eR"
      }
    },
    {
      "cell_type": "code",
      "execution_count": 7,
      "metadata": {
        "colab": {
          "base_uri": "https://localhost:8080/"
        },
        "id": "pBS2NSLNr1ke",
        "outputId": "95a60a3f-c94b-4682-cb58-667703d1f02d"
      },
      "outputs": [
        {
          "output_type": "stream",
          "name": "stdout",
          "text": [
            "Enter countdown time in seconds:10\n",
            "Time Left: 00 : 10\n",
            "Time Left: 00 : 09\n",
            "Time Left: 00 : 08\n",
            "Time Left: 00 : 07\n",
            "Time Left: 00 : 06\n",
            "Time Left: 00 : 05\n",
            "Time Left: 00 : 04\n",
            "Time Left: 00 : 03\n",
            "Time Left: 00 : 02\n",
            "Time Left: 00 : 01\n",
            "Time's up!\n"
          ]
        }
      ],
      "source": [
        "import time\n",
        "\n",
        "def countdown_timer(seconds):\n",
        "    while seconds > 0:\n",
        "        minutes = seconds // 60\n",
        "        sec = seconds % 60\n",
        "        print(f\"Time Left: {minutes:02} : {sec:02}\")\n",
        "\n",
        "        time.sleep(1)\n",
        "        seconds -= 1\n",
        "\n",
        "    print(\"Time's up!\")\n",
        "\n",
        "def main():\n",
        "    try:\n",
        "        total_seconds = int(input(\"Enter countdown time in seconds:\"))\n",
        "        if total_seconds < 0:\n",
        "           print(\"Please enter a positive number.\")\n",
        "        else:\n",
        "            countdown_timer(total_seconds)\n",
        "    except ValueError:\n",
        "        print(\"Invalid input! Please enter an integar.\")\n",
        "\n",
        "if __name__ == \"__main__\":\n",
        "    main()\n"
      ]
    }
  ]
}