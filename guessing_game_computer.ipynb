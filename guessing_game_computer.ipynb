{
  "nbformat": 4,
  "nbformat_minor": 0,
  "metadata": {
    "colab": {
      "provenance": [],
      "authorship_tag": "ABX9TyPkMX+4OWLJHMKI672CjvCV",
      "include_colab_link": true
    },
    "kernelspec": {
      "name": "python3",
      "display_name": "Python 3"
    },
    "language_info": {
      "name": "python"
    }
  },
  "cells": [
    {
      "cell_type": "markdown",
      "metadata": {
        "id": "view-in-github",
        "colab_type": "text"
      },
      "source": [
        "<a href=\"https://colab.research.google.com/github/JarginaChohan/compulsary_python_project/blob/main/guessing_game_computer.ipynb\" target=\"_parent\"><img src=\"https://colab.research.google.com/assets/colab-badge.svg\" alt=\"Open In Colab\"/></a>"
      ]
    },
    {
      "cell_type": "code",
      "execution_count": 3,
      "metadata": {
        "colab": {
          "base_uri": "https://localhost:8080/"
        },
        "id": "cOq8T3t8G-HM",
        "outputId": "ecc2c0cf-0706-4656-81da-3757f75ec06d"
      },
      "outputs": [
        {
          "output_type": "stream",
          "name": "stdout",
          "text": [
            "Think of a number between 1 and 100, and I will try to guess it!\n",
            "\n",
            "Is 50 correct (c), too high (h), or too low (l)? l\n",
            "\n",
            "Is 75 correct (c), too high (h), or too low (l)? h\n",
            "\n",
            "Is 62 correct (c), too high (h), or too low (l)? h\n",
            "\n",
            "Is 56 correct (c), too high (h), or too low (l)? l\n",
            "\n",
            "Is 59 correct (c), too high (h), or too low (l)? l\n",
            "\n",
            "Is 60 correct (c), too high (h), or too low (l)? c\n",
            "\n",
            "Yay! I guessed your number 60 in 6 attempts!\n"
          ]
        }
      ],
      "source": [
        "import time\n",
        "\n",
        "def guess_number():\n",
        "    print(\"Think of a number between 1 and 100, and I will try to guess it!\")\n",
        "    time.sleep(2)\n",
        "\n",
        "    low = 1\n",
        "    high = 100\n",
        "    attempts = 0\n",
        "\n",
        "    while True:\n",
        "        computer_guess = (low + high) // 2\n",
        "        attempts += 1\n",
        "\n",
        "        feedback = input(f\"\\nIs {computer_guess} correct (c), too high (h), or too low (l)? \").strip().lower()\n",
        "\n",
        "        if feedback == \"h\":\n",
        "            high = computer_guess - 1\n",
        "        elif feedback == \"l\":\n",
        "            low = computer_guess + 1\n",
        "        elif feedback == \"c\":\n",
        "            print(f\"\\nYay! I guessed your number {computer_guess} in {attempts} attempts!\")\n",
        "            break\n",
        "        else:\n",
        "            print(\"Invalid input! Please enter 'c' for correct, 'h' for too high, or 'l' for too low.\")\n",
        "\n",
        "# Run the function\n",
        "guess_number()\n"
      ]
    }
  ]
}