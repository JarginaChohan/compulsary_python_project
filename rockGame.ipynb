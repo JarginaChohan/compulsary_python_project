{
  "nbformat": 4,
  "nbformat_minor": 0,
  "metadata": {
    "colab": {
      "provenance": [],
      "authorship_tag": "ABX9TyMzTJ641L0yVsuQUZrpEGXs",
      "include_colab_link": true
    },
    "kernelspec": {
      "name": "python3",
      "display_name": "Python 3"
    },
    "language_info": {
      "name": "python"
    }
  },
  "cells": [
    {
      "cell_type": "markdown",
      "metadata": {
        "id": "view-in-github",
        "colab_type": "text"
      },
      "source": [
        "<a href=\"https://colab.research.google.com/github/JarginaChohan/compulsary_python_project/blob/main/rockGame.ipynb\" target=\"_parent\"><img src=\"https://colab.research.google.com/assets/colab-badge.svg\" alt=\"Open In Colab\"/></a>"
      ]
    },
    {
      "cell_type": "code",
      "execution_count": 2,
      "metadata": {
        "colab": {
          "base_uri": "https://localhost:8080/"
        },
        "id": "AmM3ZkdZdeth",
        "outputId": "d3cf352a-7ad6-4f60-e13c-50043d96ad92"
      },
      "outputs": [
        {
          "output_type": "stream",
          "name": "stdout",
          "text": [
            "\n",
            "Rock, Paper, Scissors Game!\n",
            "Enter rock, paper, or scissors (or 'quit' to exit): rock\n",
            "\n",
            "Computer choice: scissors\n",
            "You Win!\n",
            "\n",
            "Rock, Paper, Scissors Game!\n",
            "Enter rock, paper, or scissors (or 'quit' to exit): quit\n",
            "Thanks for playing! Goodbye.\n"
          ]
        }
      ],
      "source": [
        "import random\n",
        "\n",
        "def get_computer_choice():\n",
        "    return random.choice([\"rock\", \"paper\", \"scissors\"])\n",
        "\n",
        "def get_winner(player, computer):\n",
        "    if player == computer:\n",
        "        return \"It's a tie!\"\n",
        "    elif (player == \"rock\" and computer == \"scissors\") or \\\n",
        "         (player == \"scissors\" and computer == \"paper\") or \\\n",
        "         (player == \"paper\" and computer == \"rock\"):\n",
        "        return \"You Win!\"\n",
        "    else:\n",
        "        return \"Computer wins!\"\n",
        "\n",
        "def main():\n",
        "    while True:\n",
        "        print(\"\\nRock, Paper, Scissors Game!\")\n",
        "\n",
        "        player_choice = input(\"Enter rock, paper, or scissors (or 'quit' to exit): \").lower()\n",
        "\n",
        "        if player_choice == \"quit\":\n",
        "            print(\"Thanks for playing! Goodbye.\")\n",
        "            break\n",
        "        elif player_choice not in [\"rock\", \"paper\", \"scissors\"]:\n",
        "            print(\"Invalid choice, please try again.\")\n",
        "            continue  # This should be inside the loop, not before the game logic.\n",
        "\n",
        "        computer_choice = get_computer_choice()\n",
        "        print(f\"\\nComputer choice: {computer_choice}\")\n",
        "\n",
        "        result = get_winner(player_choice, computer_choice)\n",
        "        print(result)\n",
        "\n",
        "if __name__ == \"__main__\":  # Fixed typo (_name_ → __name__)\n",
        "    main()\n"
      ]
    }
  ]
}