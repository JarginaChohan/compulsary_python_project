{
  "nbformat": 4,
  "nbformat_minor": 0,
  "metadata": {
    "colab": {
      "provenance": [],
      "authorship_tag": "ABX9TyNLlD1gtUeeJtb7tjKXg/9Y",
      "include_colab_link": true
    },
    "kernelspec": {
      "name": "python3",
      "display_name": "Python 3"
    },
    "language_info": {
      "name": "python"
    }
  },
  "cells": [
    {
      "cell_type": "markdown",
      "metadata": {
        "id": "view-in-github",
        "colab_type": "text"
      },
      "source": [
        "<a href=\"https://colab.research.google.com/github/JarginaChohan/compulsary_python_project/blob/main/madlibs.ipynb\" target=\"_parent\"><img src=\"https://colab.research.google.com/assets/colab-badge.svg\" alt=\"Open In Colab\"/></a>"
      ]
    },
    {
      "cell_type": "code",
      "execution_count": 1,
      "metadata": {
        "colab": {
          "base_uri": "https://localhost:8080/"
        },
        "id": "e05qM7ASFZcH",
        "outputId": "79114df6-40e5-444f-e5e4-40071d6a1fc6"
      },
      "outputs": [
        {
          "output_type": "stream",
          "name": "stdout",
          "text": [
            "Welcome to Mad Libs! Fill in the blanks below:\n",
            "Enter a name: jargina\n",
            "Enter a place: karachi\n",
            "Enter an animal: lion\n",
            "Enter an adjective: sharp\n",
            "Enter a verb: roar\n",
            "\n",
            "Here is your Mad Libs story:\n",
            "\n",
            "\n",
            "    One day, jargina was walking through karachi when they saw a sharp lion.\n",
            "    Surprised, jargina decided to roar towards it. \n",
            "    The lion looked at jargina and ran away, leaving jargina laughing.\n",
            "    It was truly an unforgettable day in karachi!\n",
            "    \n"
          ]
        }
      ],
      "source": [
        "def mad_libs():\n",
        "    \"\"\"Generates a fun Mad Libs story based on user input.\"\"\"\n",
        "    print(\"Welcome to Mad Libs! Fill in the blanks below:\")\n",
        "\n",
        "    # Collecting user inputs\n",
        "    name = input(\"Enter a name: \")\n",
        "    place = input(\"Enter a place: \")\n",
        "    animal = input(\"Enter an animal: \")\n",
        "    adjective = input(\"Enter an adjective: \")\n",
        "    verb = input(\"Enter a verb: \")\n",
        "\n",
        "    # Creating the story using f-strings\n",
        "    story = f\"\"\"\n",
        "    One day, {name} was walking through {place} when they saw a {adjective} {animal}.\n",
        "    Surprised, {name} decided to {verb} towards it.\n",
        "    The {animal} looked at {name} and ran away, leaving {name} laughing.\n",
        "    It was truly an unforgettable day in {place}!\n",
        "    \"\"\"\n",
        "\n",
        "    # Printing the generated story\n",
        "    print(\"\\nHere is your Mad Libs story:\\n\")\n",
        "    print(story)\n",
        "\n",
        "if __name__ == \"__main__\":\n",
        "    mad_libs()\n"
      ]
    }
  ]
}