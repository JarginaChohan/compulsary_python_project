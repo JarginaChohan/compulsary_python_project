{
  "nbformat": 4,
  "nbformat_minor": 0,
  "metadata": {
    "colab": {
      "provenance": [],
      "authorship_tag": "ABX9TyNGwTxQS0v2zqdoU/JgHGSy",
      "include_colab_link": true
    },
    "kernelspec": {
      "name": "python3",
      "display_name": "Python 3"
    },
    "language_info": {
      "name": "python"
    }
  },
  "cells": [
    {
      "cell_type": "markdown",
      "metadata": {
        "id": "view-in-github",
        "colab_type": "text"
      },
      "source": [
        "<a href=\"https://colab.research.google.com/github/JarginaChohan/compulsary_python_project/blob/main/bmi_calculator.ipynb\" target=\"_parent\"><img src=\"https://colab.research.google.com/assets/colab-badge.svg\" alt=\"Open In Colab\"/></a>"
      ]
    },
    {
      "cell_type": "markdown",
      "source": [
        "https://bmi-calculator-jargina.streamlit.app/"
      ],
      "metadata": {
        "id": "epyAYoM5qGVy"
      }
    },
    {
      "cell_type": "code",
      "execution_count": null,
      "metadata": {
        "id": "yhNlxPR6qFGW"
      },
      "outputs": [],
      "source": [
        "import streamlit as st\n",
        "import pandas as pd\n",
        "\n",
        "def feet_inches_to_cm(feet, inches):\n",
        "    return (feet * 30.48) + (inches * 2.54)\n",
        "\n",
        "def calculate_bmi(weight, height_cm):\n",
        "    height_m = height_cm / 100\n",
        "    if height_m <= 0:\n",
        "        return None\n",
        "    bmi = weight / (height_m ** 2)\n",
        "    return round(bmi, 2)\n",
        "\n",
        "def bmi_category(bmi):\n",
        "    if bmi < 18.5:\n",
        "        return \"Underweight\", \"\\U0001F535\"\n",
        "    elif 18.5 <= bmi < 24.9:\n",
        "        return \"Normal weight\", \"\\U0001F7E2\"\n",
        "    elif 25 <= bmi < 29.9:\n",
        "        return \"Overweight\", \"\\U0001F7E0\"\n",
        "    else:\n",
        "        return \"Obese\", \"\\U0001F534\"\n",
        "\n",
        "# Streamlit UI\n",
        "st.title(\"BMI Calculator\")\n",
        "st.write(\"Enter your weight and height to calculate your Body Mass Index (BMI).\")\n",
        "\n",
        "weight = st.number_input(\"Enter your weight (kg):\", min_value=1.0, format=\"%2f\")\n",
        "\n",
        "height_format = st.radio(\"Select Height Input Format:\", (\"Centimeters (cm)\", \"Feet & Inches\"))\n",
        "\n",
        "if height_format == \"Centimeters (cm)\":\n",
        "    height_cm = st.number_input(\"Enter your height (cm):\", min_value=1.0, format=\"%.2f\")\n",
        "else:\n",
        "    feet = st.number_input(\"Feet:\", min_value=0, step=1)\n",
        "    inches = st.number_input(\"Inches:\", min_value=0, max_value=11, step=1)\n",
        "    height_cm = feet_inches_to_cm(feet, inches)\n",
        "\n",
        "if st.button(\"Calculate BMI\"):\n",
        "    if weight > 0 and height_cm > 0:\n",
        "        bmi = calculate_bmi(weight, height_cm)\n",
        "        category, emoji = bmi_category(bmi)\n",
        "\n",
        "        st.subheader(f\"Your BMI: {bmi} {emoji}\")\n",
        "        st.write(f\"**Category:** {category}\")\n",
        "\n",
        "        data = {\n",
        "            \"BMI Range\": [\"< 18.5\", \"18.5 - 24.9\", \"25 - 29.9\", \"30+\"],\n",
        "            \"Category\": [\"Underweight\", \"Normal weight\", \"Overweight\", \"Obese\"],\n",
        "            \"Indicator\": [\"\\U0001F535\", \"\\U0001F7E2\", \"\\U0001F7E0\", \"\\U0001F534\"]\n",
        "        }\n",
        "        df = pd.DataFrame(data)\n",
        "        st.table(df)\n",
        "\n",
        "    else:\n",
        "        st.error(\"Please enter valid weight and height.\")\n"
      ]
    }
  ]
}